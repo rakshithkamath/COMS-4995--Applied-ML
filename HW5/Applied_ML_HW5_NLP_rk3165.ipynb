{
 "cells": [
  {
   "cell_type": "markdown",
   "id": "d9bcdbd2-3401-41ad-a83f-830e9346e607",
   "metadata": {
    "id": "d9bcdbd2-3401-41ad-a83f-830e9346e607"
   },
   "source": [
    "# **Applied Machine Learning Homework 5**\n",
    "# **UNI**-rk3165\n",
    "# **Name**- Rakshith Kamath\n",
    "**Due 2 May,2022 (Monday) 11:59PM EST**"
   ]
  },
  {
   "cell_type": "markdown",
   "id": "70df26be-5638-4b0d-a252-4437eb76aa46",
   "metadata": {
    "id": "70df26be-5638-4b0d-a252-4437eb76aa46"
   },
   "source": [
    "### Natural Language Processing\n",
    "We will train a supervised training model to predict if a tweet has a positive or negative sentiment."
   ]
  },
  {
   "cell_type": "code",
   "execution_count": 1,
   "id": "ee73564d",
   "metadata": {},
   "outputs": [],
   "source": [
    "import re\n",
    "import numpy as np\n",
    "import pandas as pd\n",
    "from sklearn.model_selection import train_test_split\n",
    "from sklearn.feature_extraction.text import CountVectorizer, TfidfVectorizer\n",
    "from sklearn.linear_model import LogisticRegressionCV\n",
    "from sklearn.metrics import classification_report"
   ]
  },
  {
   "cell_type": "markdown",
   "id": "2e0d9a19-25ea-4490-b0e8-7909bcdc3d9d",
   "metadata": {
    "id": "2e0d9a19-25ea-4490-b0e8-7909bcdc3d9d"
   },
   "source": [
    "####  **Dataset loading & dev/test splits**"
   ]
  },
  {
   "cell_type": "markdown",
   "id": "fafa37c4-c8fc-4697-9bbe-11539d710bf7",
   "metadata": {
    "id": "fafa37c4-c8fc-4697-9bbe-11539d710bf7"
   },
   "source": [
    "**1.1) Load the twitter dataset from NLTK library**"
   ]
  },
  {
   "cell_type": "code",
   "execution_count": 2,
   "id": "5f4ce405-237b-42d2-9c81-25ff28deaf4a",
   "metadata": {
    "id": "5f4ce405-237b-42d2-9c81-25ff28deaf4a",
    "outputId": "1ddd96c2-a8e1-43dd-f17e-f5457fbc3bd9"
   },
   "outputs": [
    {
     "name": "stderr",
     "output_type": "stream",
     "text": [
      "[nltk_data] Downloading package twitter_samples to\n",
      "[nltk_data]     /Users/rakshithkamath/nltk_data...\n",
      "[nltk_data]   Package twitter_samples is already up-to-date!\n"
     ]
    }
   ],
   "source": [
    "import nltk\n",
    "nltk.download('twitter_samples')\n",
    "from nltk.corpus import twitter_samples "
   ]
  },
  {
   "cell_type": "code",
   "execution_count": 3,
   "id": "79aad93c",
   "metadata": {},
   "outputs": [
    {
     "name": "stderr",
     "output_type": "stream",
     "text": [
      "[nltk_data] Downloading package stopwords to\n",
      "[nltk_data]     /Users/rakshithkamath/nltk_data...\n",
      "[nltk_data]   Package stopwords is already up-to-date!\n",
      "[nltk_data] Downloading package punkt to\n",
      "[nltk_data]     /Users/rakshithkamath/nltk_data...\n",
      "[nltk_data]   Package punkt is already up-to-date!\n"
     ]
    }
   ],
   "source": [
    "import nltk\n",
    "nltk.download(\"stopwords\")\n",
    "nltk.download('punkt')\n",
    "from nltk.corpus import stopwords\n",
    "from nltk.tokenize import word_tokenize\n",
    "from nltk.stem import PorterStemmer"
   ]
  },
  {
   "cell_type": "markdown",
   "id": "c41d62ce-3c78-4b6c-9238-111d990d170f",
   "metadata": {
    "id": "c41d62ce-3c78-4b6c-9238-111d990d170f"
   },
   "source": [
    "**1.2) Load the positive & negative tweets**"
   ]
  },
  {
   "cell_type": "code",
   "execution_count": 4,
   "id": "b92fb408-f72a-4c23-acd8-7c944a52edd3",
   "metadata": {
    "id": "b92fb408-f72a-4c23-acd8-7c944a52edd3"
   },
   "outputs": [],
   "source": [
    "all_positive_tweets = twitter_samples.strings('positive_tweets.json')\n",
    "all_negative_tweets = twitter_samples.strings('negative_tweets.json')"
   ]
  },
  {
   "cell_type": "markdown",
   "id": "12eae071-fd8a-4a46-9958-0525c635fd88",
   "metadata": {
    "id": "12eae071-fd8a-4a46-9958-0525c635fd88"
   },
   "source": [
    "**1.3) Create a development & test split (80/20 ratio):**"
   ]
  },
  {
   "cell_type": "code",
   "execution_count": 5,
   "id": "0f3673db-d7a8-470b-a3d3-f4522cd359b8",
   "metadata": {
    "id": "0f3673db-d7a8-470b-a3d3-f4522cd359b8"
   },
   "outputs": [
    {
     "data": {
      "text/html": [
       "<div>\n",
       "<style scoped>\n",
       "    .dataframe tbody tr th:only-of-type {\n",
       "        vertical-align: middle;\n",
       "    }\n",
       "\n",
       "    .dataframe tbody tr th {\n",
       "        vertical-align: top;\n",
       "    }\n",
       "\n",
       "    .dataframe thead th {\n",
       "        text-align: right;\n",
       "    }\n",
       "</style>\n",
       "<table border=\"1\" class=\"dataframe\">\n",
       "  <thead>\n",
       "    <tr style=\"text-align: right;\">\n",
       "      <th></th>\n",
       "      <th>tweets</th>\n",
       "      <th>sentiment</th>\n",
       "    </tr>\n",
       "  </thead>\n",
       "  <tbody>\n",
       "    <tr>\n",
       "      <th>0</th>\n",
       "      <td>#FollowFriday @France_Inte @PKuchly57 @Milipol...</td>\n",
       "      <td>pos</td>\n",
       "    </tr>\n",
       "    <tr>\n",
       "      <th>1</th>\n",
       "      <td>@Lamb2ja Hey James! How odd :/ Please call our...</td>\n",
       "      <td>pos</td>\n",
       "    </tr>\n",
       "    <tr>\n",
       "      <th>2</th>\n",
       "      <td>@DespiteOfficial we had a listen last night :)...</td>\n",
       "      <td>pos</td>\n",
       "    </tr>\n",
       "    <tr>\n",
       "      <th>3</th>\n",
       "      <td>@97sides CONGRATS :)</td>\n",
       "      <td>pos</td>\n",
       "    </tr>\n",
       "    <tr>\n",
       "      <th>4</th>\n",
       "      <td>yeaaaah yippppy!!!  my accnt verified rqst has...</td>\n",
       "      <td>pos</td>\n",
       "    </tr>\n",
       "    <tr>\n",
       "      <th>5</th>\n",
       "      <td>@BhaktisBanter @PallaviRuhail This one is irre...</td>\n",
       "      <td>pos</td>\n",
       "    </tr>\n",
       "    <tr>\n",
       "      <th>6</th>\n",
       "      <td>We don't like to keep our lovely customers wai...</td>\n",
       "      <td>pos</td>\n",
       "    </tr>\n",
       "    <tr>\n",
       "      <th>7</th>\n",
       "      <td>@Impatientraider On second thought, there’s ju...</td>\n",
       "      <td>pos</td>\n",
       "    </tr>\n",
       "    <tr>\n",
       "      <th>8</th>\n",
       "      <td>Jgh , but we have to go to Bayan :D bye</td>\n",
       "      <td>pos</td>\n",
       "    </tr>\n",
       "    <tr>\n",
       "      <th>9</th>\n",
       "      <td>As an act of mischievousness, am calling the E...</td>\n",
       "      <td>pos</td>\n",
       "    </tr>\n",
       "  </tbody>\n",
       "</table>\n",
       "</div>"
      ],
      "text/plain": [
       "                                              tweets sentiment\n",
       "0  #FollowFriday @France_Inte @PKuchly57 @Milipol...       pos\n",
       "1  @Lamb2ja Hey James! How odd :/ Please call our...       pos\n",
       "2  @DespiteOfficial we had a listen last night :)...       pos\n",
       "3                               @97sides CONGRATS :)       pos\n",
       "4  yeaaaah yippppy!!!  my accnt verified rqst has...       pos\n",
       "5  @BhaktisBanter @PallaviRuhail This one is irre...       pos\n",
       "6  We don't like to keep our lovely customers wai...       pos\n",
       "7  @Impatientraider On second thought, there’s ju...       pos\n",
       "8            Jgh , but we have to go to Bayan :D bye       pos\n",
       "9  As an act of mischievousness, am calling the E...       pos"
      ]
     },
     "execution_count": 5,
     "metadata": {},
     "output_type": "execute_result"
    }
   ],
   "source": [
    "#code here\n",
    "pos_label = ['pos']*len(all_positive_tweets)\n",
    "neg_label = ['neg']*len(all_negative_tweets)\n",
    "\n",
    "tweets=all_positive_tweets+all_negative_tweets\n",
    "labels=pos_label+neg_label\n",
    "\n",
    "df=pd.DataFrame({'tweets':tweets,'sentiment':labels})\n",
    "df.head(10)"
   ]
  },
  {
   "cell_type": "code",
   "execution_count": 6,
   "id": "d26a3656",
   "metadata": {},
   "outputs": [
    {
     "data": {
      "text/html": [
       "<div>\n",
       "<style scoped>\n",
       "    .dataframe tbody tr th:only-of-type {\n",
       "        vertical-align: middle;\n",
       "    }\n",
       "\n",
       "    .dataframe tbody tr th {\n",
       "        vertical-align: top;\n",
       "    }\n",
       "\n",
       "    .dataframe thead th {\n",
       "        text-align: right;\n",
       "    }\n",
       "</style>\n",
       "<table border=\"1\" class=\"dataframe\">\n",
       "  <thead>\n",
       "    <tr style=\"text-align: right;\">\n",
       "      <th></th>\n",
       "      <th>tweets</th>\n",
       "    </tr>\n",
       "  </thead>\n",
       "  <tbody>\n",
       "    <tr>\n",
       "      <th>0</th>\n",
       "      <td>#FollowFriday @France_Inte @PKuchly57 @Milipol...</td>\n",
       "    </tr>\n",
       "    <tr>\n",
       "      <th>1</th>\n",
       "      <td>@Lamb2ja Hey James! How odd :/ Please call our...</td>\n",
       "    </tr>\n",
       "    <tr>\n",
       "      <th>2</th>\n",
       "      <td>@DespiteOfficial we had a listen last night :)...</td>\n",
       "    </tr>\n",
       "    <tr>\n",
       "      <th>3</th>\n",
       "      <td>@97sides CONGRATS :)</td>\n",
       "    </tr>\n",
       "    <tr>\n",
       "      <th>4</th>\n",
       "      <td>yeaaaah yippppy!!!  my accnt verified rqst has...</td>\n",
       "    </tr>\n",
       "  </tbody>\n",
       "</table>\n",
       "</div>"
      ],
      "text/plain": [
       "                                              tweets\n",
       "0  #FollowFriday @France_Inte @PKuchly57 @Milipol...\n",
       "1  @Lamb2ja Hey James! How odd :/ Please call our...\n",
       "2  @DespiteOfficial we had a listen last night :)...\n",
       "3                               @97sides CONGRATS :)\n",
       "4  yeaaaah yippppy!!!  my accnt verified rqst has..."
      ]
     },
     "execution_count": 6,
     "metadata": {},
     "output_type": "execute_result"
    }
   ],
   "source": [
    "y = df.sentiment\n",
    "df.drop(['sentiment'], axis=1, inplace=True)\n",
    "df.head()"
   ]
  },
  {
   "cell_type": "code",
   "execution_count": 7,
   "id": "003e3b22",
   "metadata": {},
   "outputs": [
    {
     "name": "stdout",
     "output_type": "stream",
     "text": [
      "The amount of positive and negative sentiment tweets in dev\n",
      "neg    4012\n",
      "pos    3988\n",
      "Name: sentiment, dtype: int64\n",
      "The amount of positive and negative sentiment tweets in test\n",
      "pos    1012\n",
      "neg     988\n",
      "Name: sentiment, dtype: int64\n"
     ]
    }
   ],
   "source": [
    "X_dev,X_test, y_dev, y_test = train_test_split(df, y, test_size=.2, random_state=42)\n",
    "print(f\"The amount of positive and negative sentiment tweets in dev\")\n",
    "print(y_dev.value_counts())\n",
    "print(f\"The amount of positive and negative sentiment tweets in test\")\n",
    "print(y_test.value_counts())"
   ]
  },
  {
   "cell_type": "markdown",
   "id": "32b23398-e80e-4624-b89e-c02fabfd3f8d",
   "metadata": {
    "id": "32b23398-e80e-4624-b89e-c02fabfd3f8d"
   },
   "source": [
    "#### **Data preprocessing**\n",
    "We will do some data preprocessing before we tokenize the data. We will remove `#` symbol, hyperlinks, stop words & punctuations from the data. You can use the `re` package in python to find and replace these strings. "
   ]
  },
  {
   "cell_type": "markdown",
   "id": "f89d9d69-1640-4583-a7b7-7ec04ccf3310",
   "metadata": {
    "id": "f89d9d69-1640-4583-a7b7-7ec04ccf3310"
   },
   "source": [
    "**1.4) Replace the `#` symbol with '' in every tweet**"
   ]
  },
  {
   "cell_type": "code",
   "execution_count": 8,
   "id": "5db4dd6d-e775-49d3-96e1-57620c042d46",
   "metadata": {
    "id": "5db4dd6d-e775-49d3-96e1-57620c042d46"
   },
   "outputs": [
    {
     "data": {
      "text/html": [
       "<div>\n",
       "<style scoped>\n",
       "    .dataframe tbody tr th:only-of-type {\n",
       "        vertical-align: middle;\n",
       "    }\n",
       "\n",
       "    .dataframe tbody tr th {\n",
       "        vertical-align: top;\n",
       "    }\n",
       "\n",
       "    .dataframe thead th {\n",
       "        text-align: right;\n",
       "    }\n",
       "</style>\n",
       "<table border=\"1\" class=\"dataframe\">\n",
       "  <thead>\n",
       "    <tr style=\"text-align: right;\">\n",
       "      <th></th>\n",
       "      <th>tweets</th>\n",
       "    </tr>\n",
       "  </thead>\n",
       "  <tbody>\n",
       "    <tr>\n",
       "      <th>9254</th>\n",
       "      <td>:((((( matt</td>\n",
       "    </tr>\n",
       "    <tr>\n",
       "      <th>1561</th>\n",
       "      <td>@Lachdog_AU @Posica all good, thanks anyway :)</td>\n",
       "    </tr>\n",
       "    <tr>\n",
       "      <th>1670</th>\n",
       "      <td>my bf is mean :)</td>\n",
       "    </tr>\n",
       "    <tr>\n",
       "      <th>6087</th>\n",
       "      <td>zzzz missed my stop :(</td>\n",
       "    </tr>\n",
       "    <tr>\n",
       "      <th>6669</th>\n",
       "      <td>@bexmader that means 3am for me in Australia :(((</td>\n",
       "    </tr>\n",
       "    <tr>\n",
       "      <th>5933</th>\n",
       "      <td>@ButDinero your so fake I texted you :(</td>\n",
       "    </tr>\n",
       "    <tr>\n",
       "      <th>8829</th>\n",
       "      <td>This actually made me cry this is so disgustin...</td>\n",
       "    </tr>\n",
       "    <tr>\n",
       "      <th>7945</th>\n",
       "      <td>@lynfogeek \"We're sorry, but Google Play Music...</td>\n",
       "    </tr>\n",
       "    <tr>\n",
       "      <th>3508</th>\n",
       "      <td>@Yorkshireccc @YCCCDizzy Have a good match 2ni...</td>\n",
       "    </tr>\n",
       "    <tr>\n",
       "      <th>2002</th>\n",
       "      <td>After Earth! :)) http://t.co/nrqNiBm7Ks</td>\n",
       "    </tr>\n",
       "  </tbody>\n",
       "</table>\n",
       "</div>"
      ],
      "text/plain": [
       "                                                 tweets\n",
       "9254                                        :((((( matt\n",
       "1561     @Lachdog_AU @Posica all good, thanks anyway :)\n",
       "1670                                   my bf is mean :)\n",
       "6087                             zzzz missed my stop :(\n",
       "6669  @bexmader that means 3am for me in Australia :(((\n",
       "5933            @ButDinero your so fake I texted you :(\n",
       "8829  This actually made me cry this is so disgustin...\n",
       "7945  @lynfogeek \"We're sorry, but Google Play Music...\n",
       "3508  @Yorkshireccc @YCCCDizzy Have a good match 2ni...\n",
       "2002            After Earth! :)) http://t.co/nrqNiBm7Ks"
      ]
     },
     "execution_count": 8,
     "metadata": {},
     "output_type": "execute_result"
    }
   ],
   "source": [
    "#code here\n",
    "X_dev[['tweets']]=X_dev.apply({'tweets':lambda x:re.sub(r'#','',x)})\n",
    "X_dev.head(10)"
   ]
  },
  {
   "cell_type": "code",
   "execution_count": 9,
   "id": "a21c102c",
   "metadata": {},
   "outputs": [
    {
     "data": {
      "text/html": [
       "<div>\n",
       "<style scoped>\n",
       "    .dataframe tbody tr th:only-of-type {\n",
       "        vertical-align: middle;\n",
       "    }\n",
       "\n",
       "    .dataframe tbody tr th {\n",
       "        vertical-align: top;\n",
       "    }\n",
       "\n",
       "    .dataframe thead th {\n",
       "        text-align: right;\n",
       "    }\n",
       "</style>\n",
       "<table border=\"1\" class=\"dataframe\">\n",
       "  <thead>\n",
       "    <tr style=\"text-align: right;\">\n",
       "      <th></th>\n",
       "      <th>tweets</th>\n",
       "    </tr>\n",
       "  </thead>\n",
       "  <tbody>\n",
       "    <tr>\n",
       "      <th>6252</th>\n",
       "      <td>I love you, how but you? @Taecyeon2pm8 did you...</td>\n",
       "    </tr>\n",
       "    <tr>\n",
       "      <th>4684</th>\n",
       "      <td>@mayusushita @dildeewana_ @sonalp2591 @deepti_...</td>\n",
       "    </tr>\n",
       "    <tr>\n",
       "      <th>1731</th>\n",
       "      <td>Your love, O Lord, is better than life. :) &amp;lt...</td>\n",
       "    </tr>\n",
       "    <tr>\n",
       "      <th>4742</th>\n",
       "      <td>@yasminyasir96 yeah but it will be better if w...</td>\n",
       "    </tr>\n",
       "    <tr>\n",
       "      <th>4521</th>\n",
       "      <td>Ok good night I wish troye wasn't ugly and I m...</td>\n",
       "    </tr>\n",
       "    <tr>\n",
       "      <th>6340</th>\n",
       "      <td>@scottybev I'm not surprised, that sounds hell...</td>\n",
       "    </tr>\n",
       "    <tr>\n",
       "      <th>576</th>\n",
       "      <td>Dry, hot, scorching summer FF :) @infocffm @Me...</td>\n",
       "    </tr>\n",
       "    <tr>\n",
       "      <th>5202</th>\n",
       "      <td>@hanbined sad pray for me :(((</td>\n",
       "    </tr>\n",
       "    <tr>\n",
       "      <th>6363</th>\n",
       "      <td>Popol day too :(</td>\n",
       "    </tr>\n",
       "    <tr>\n",
       "      <th>439</th>\n",
       "      <td>My Song of the Week is Ducktails - Surreal Exp...</td>\n",
       "    </tr>\n",
       "  </tbody>\n",
       "</table>\n",
       "</div>"
      ],
      "text/plain": [
       "                                                 tweets\n",
       "6252  I love you, how but you? @Taecyeon2pm8 did you...\n",
       "4684  @mayusushita @dildeewana_ @sonalp2591 @deepti_...\n",
       "1731  Your love, O Lord, is better than life. :) &lt...\n",
       "4742  @yasminyasir96 yeah but it will be better if w...\n",
       "4521  Ok good night I wish troye wasn't ugly and I m...\n",
       "6340  @scottybev I'm not surprised, that sounds hell...\n",
       "576   Dry, hot, scorching summer FF :) @infocffm @Me...\n",
       "5202                     @hanbined sad pray for me :(((\n",
       "6363                                   Popol day too :(\n",
       "439   My Song of the Week is Ducktails - Surreal Exp..."
      ]
     },
     "execution_count": 9,
     "metadata": {},
     "output_type": "execute_result"
    }
   ],
   "source": [
    "#code here\n",
    "X_test[['tweets']]=X_test.apply({'tweets':lambda x:re.sub(r'#','',x)})\n",
    "X_test.head(10)"
   ]
  },
  {
   "cell_type": "markdown",
   "id": "24c4caa8-d71d-46a8-8859-a8e85c56acfe",
   "metadata": {
    "id": "24c4caa8-d71d-46a8-8859-a8e85c56acfe"
   },
   "source": [
    "**1.5) Replace hyperlinks with '' in every tweet**"
   ]
  },
  {
   "cell_type": "code",
   "execution_count": 10,
   "id": "ff5a7411-df49-427b-adef-5e8e63224db0",
   "metadata": {
    "id": "ff5a7411-df49-427b-adef-5e8e63224db0"
   },
   "outputs": [
    {
     "data": {
      "text/html": [
       "<div>\n",
       "<style scoped>\n",
       "    .dataframe tbody tr th:only-of-type {\n",
       "        vertical-align: middle;\n",
       "    }\n",
       "\n",
       "    .dataframe tbody tr th {\n",
       "        vertical-align: top;\n",
       "    }\n",
       "\n",
       "    .dataframe thead th {\n",
       "        text-align: right;\n",
       "    }\n",
       "</style>\n",
       "<table border=\"1\" class=\"dataframe\">\n",
       "  <thead>\n",
       "    <tr style=\"text-align: right;\">\n",
       "      <th></th>\n",
       "      <th>tweets</th>\n",
       "    </tr>\n",
       "  </thead>\n",
       "  <tbody>\n",
       "    <tr>\n",
       "      <th>9254</th>\n",
       "      <td>:((((( matt</td>\n",
       "    </tr>\n",
       "    <tr>\n",
       "      <th>1561</th>\n",
       "      <td>all good, thanks anyway :)</td>\n",
       "    </tr>\n",
       "    <tr>\n",
       "      <th>1670</th>\n",
       "      <td>my bf is mean :)</td>\n",
       "    </tr>\n",
       "    <tr>\n",
       "      <th>6087</th>\n",
       "      <td>zzzz missed my stop :(</td>\n",
       "    </tr>\n",
       "    <tr>\n",
       "      <th>6669</th>\n",
       "      <td>that means 3am for me in Australia :(((</td>\n",
       "    </tr>\n",
       "    <tr>\n",
       "      <th>5933</th>\n",
       "      <td>your so fake I texted you :(</td>\n",
       "    </tr>\n",
       "    <tr>\n",
       "      <th>8829</th>\n",
       "      <td>This actually made me cry this is so disgustin...</td>\n",
       "    </tr>\n",
       "    <tr>\n",
       "      <th>7945</th>\n",
       "      <td>\"We're sorry, but Google Play Music is curren...</td>\n",
       "    </tr>\n",
       "    <tr>\n",
       "      <th>3508</th>\n",
       "      <td>Have a good match 2nite boys - lets go out o...</td>\n",
       "    </tr>\n",
       "    <tr>\n",
       "      <th>2002</th>\n",
       "      <td>After Earth! :))</td>\n",
       "    </tr>\n",
       "  </tbody>\n",
       "</table>\n",
       "</div>"
      ],
      "text/plain": [
       "                                                 tweets\n",
       "9254                                        :((((( matt\n",
       "1561                         all good, thanks anyway :)\n",
       "1670                                   my bf is mean :)\n",
       "6087                             zzzz missed my stop :(\n",
       "6669            that means 3am for me in Australia :(((\n",
       "5933                       your so fake I texted you :(\n",
       "8829  This actually made me cry this is so disgustin...\n",
       "7945   \"We're sorry, but Google Play Music is curren...\n",
       "3508    Have a good match 2nite boys - lets go out o...\n",
       "2002                                  After Earth! :)) "
      ]
     },
     "execution_count": 10,
     "metadata": {},
     "output_type": "execute_result"
    }
   ],
   "source": [
    "#code here\n",
    "X_dev[['tweets']]=X_dev.apply({'tweets':lambda x:re.sub(r'@\\w*','',x)})\n",
    "X_dev[['tweets']]=X_dev.apply({'tweets':lambda x:re.sub(r'http\\S+','',x)})\n",
    "X_dev.head(10)"
   ]
  },
  {
   "cell_type": "code",
   "execution_count": 11,
   "id": "e1e0add8",
   "metadata": {},
   "outputs": [
    {
     "data": {
      "text/html": [
       "<div>\n",
       "<style scoped>\n",
       "    .dataframe tbody tr th:only-of-type {\n",
       "        vertical-align: middle;\n",
       "    }\n",
       "\n",
       "    .dataframe tbody tr th {\n",
       "        vertical-align: top;\n",
       "    }\n",
       "\n",
       "    .dataframe thead th {\n",
       "        text-align: right;\n",
       "    }\n",
       "</style>\n",
       "<table border=\"1\" class=\"dataframe\">\n",
       "  <thead>\n",
       "    <tr style=\"text-align: right;\">\n",
       "      <th></th>\n",
       "      <th>tweets</th>\n",
       "    </tr>\n",
       "  </thead>\n",
       "  <tbody>\n",
       "    <tr>\n",
       "      <th>6252</th>\n",
       "      <td>I love you, how but you?  did you feel the sam...</td>\n",
       "    </tr>\n",
       "    <tr>\n",
       "      <th>4684</th>\n",
       "      <td>Thanks Guys :)</td>\n",
       "    </tr>\n",
       "    <tr>\n",
       "      <th>1731</th>\n",
       "      <td>Your love, O Lord, is better than life. :) &amp;lt;3</td>\n",
       "    </tr>\n",
       "    <tr>\n",
       "      <th>4742</th>\n",
       "      <td>yeah but it will be better if we use her offi...</td>\n",
       "    </tr>\n",
       "    <tr>\n",
       "      <th>4521</th>\n",
       "      <td>Ok good night I wish troye wasn't ugly and I m...</td>\n",
       "    </tr>\n",
       "    <tr>\n",
       "      <th>6340</th>\n",
       "      <td>I'm not surprised, that sounds hellish! Why w...</td>\n",
       "    </tr>\n",
       "    <tr>\n",
       "      <th>576</th>\n",
       "      <td>Dry, hot, scorching summer FF :)</td>\n",
       "    </tr>\n",
       "    <tr>\n",
       "      <th>5202</th>\n",
       "      <td>sad pray for me :(((</td>\n",
       "    </tr>\n",
       "    <tr>\n",
       "      <th>6363</th>\n",
       "      <td>Popol day too :(</td>\n",
       "    </tr>\n",
       "    <tr>\n",
       "      <th>439</th>\n",
       "      <td>My Song of the Week is Ducktails - Surreal Exp...</td>\n",
       "    </tr>\n",
       "  </tbody>\n",
       "</table>\n",
       "</div>"
      ],
      "text/plain": [
       "                                                 tweets\n",
       "6252  I love you, how but you?  did you feel the sam...\n",
       "4684                                     Thanks Guys :)\n",
       "1731  Your love, O Lord, is better than life. :) &lt;3 \n",
       "4742   yeah but it will be better if we use her offi...\n",
       "4521  Ok good night I wish troye wasn't ugly and I m...\n",
       "6340   I'm not surprised, that sounds hellish! Why w...\n",
       "576               Dry, hot, scorching summer FF :)     \n",
       "5202                               sad pray for me :(((\n",
       "6363                                   Popol day too :(\n",
       "439   My Song of the Week is Ducktails - Surreal Exp..."
      ]
     },
     "execution_count": 11,
     "metadata": {},
     "output_type": "execute_result"
    }
   ],
   "source": [
    "#code here\n",
    "X_test[['tweets']]=X_test.apply({'tweets':lambda x:re.sub(r'@\\w*','',x)})\n",
    "X_test[['tweets']]=X_test.apply({'tweets':lambda x:re.sub(r'http\\S+','',x)})\n",
    "X_test.head(10)"
   ]
  },
  {
   "cell_type": "markdown",
   "id": "492ae463-b611-4292-9ad2-b778856bf8bc",
   "metadata": {
    "id": "492ae463-b611-4292-9ad2-b778856bf8bc"
   },
   "source": [
    "**1.6) Remove all stop words**"
   ]
  },
  {
   "cell_type": "code",
   "execution_count": 12,
   "id": "961d73fd-a662-46f2-85a2-83bf6b978189",
   "metadata": {
    "id": "961d73fd-a662-46f2-85a2-83bf6b978189"
   },
   "outputs": [],
   "source": [
    "#code here\n",
    "stop_words = stopwords.words('english')\n",
    "\n",
    "def remove_stop_words(sent):\n",
    "    token_words = word_tokenize(sent)\n",
    "    stopwords_removed = [word for word in token_words if word not in stop_words]\n",
    "    return ' '.join(stopwords_removed)\n"
   ]
  },
  {
   "cell_type": "code",
   "execution_count": 13,
   "id": "5e8151d7",
   "metadata": {},
   "outputs": [
    {
     "data": {
      "text/html": [
       "<div>\n",
       "<style scoped>\n",
       "    .dataframe tbody tr th:only-of-type {\n",
       "        vertical-align: middle;\n",
       "    }\n",
       "\n",
       "    .dataframe tbody tr th {\n",
       "        vertical-align: top;\n",
       "    }\n",
       "\n",
       "    .dataframe thead th {\n",
       "        text-align: right;\n",
       "    }\n",
       "</style>\n",
       "<table border=\"1\" class=\"dataframe\">\n",
       "  <thead>\n",
       "    <tr style=\"text-align: right;\">\n",
       "      <th></th>\n",
       "      <th>tweets</th>\n",
       "    </tr>\n",
       "  </thead>\n",
       "  <tbody>\n",
       "    <tr>\n",
       "      <th>9254</th>\n",
       "      <td>: ( ( ( ( ( matt</td>\n",
       "    </tr>\n",
       "    <tr>\n",
       "      <th>1561</th>\n",
       "      <td>good , thanks anyway : )</td>\n",
       "    </tr>\n",
       "    <tr>\n",
       "      <th>1670</th>\n",
       "      <td>bf mean : )</td>\n",
       "    </tr>\n",
       "    <tr>\n",
       "      <th>6087</th>\n",
       "      <td>zzzz missed stop : (</td>\n",
       "    </tr>\n",
       "    <tr>\n",
       "      <th>6669</th>\n",
       "      <td>means 3am Australia : ( ( (</td>\n",
       "    </tr>\n",
       "    <tr>\n",
       "      <th>5933</th>\n",
       "      <td>fake I texted : (</td>\n",
       "    </tr>\n",
       "    <tr>\n",
       "      <th>8829</th>\n",
       "      <td>This actually made cry disgusting whAT THE ACT...</td>\n",
       "    </tr>\n",
       "    <tr>\n",
       "      <th>7945</th>\n",
       "      <td>`` We 're sorry , Google Play Music currently ...</td>\n",
       "    </tr>\n",
       "    <tr>\n",
       "      <th>3508</th>\n",
       "      <td>Have good match 2nite boys - lets go comp high...</td>\n",
       "    </tr>\n",
       "    <tr>\n",
       "      <th>2002</th>\n",
       "      <td>After Earth ! : ) )</td>\n",
       "    </tr>\n",
       "  </tbody>\n",
       "</table>\n",
       "</div>"
      ],
      "text/plain": [
       "                                                 tweets\n",
       "9254                                   : ( ( ( ( ( matt\n",
       "1561                           good , thanks anyway : )\n",
       "1670                                        bf mean : )\n",
       "6087                               zzzz missed stop : (\n",
       "6669                        means 3am Australia : ( ( (\n",
       "5933                                  fake I texted : (\n",
       "8829  This actually made cry disgusting whAT THE ACT...\n",
       "7945  `` We 're sorry , Google Play Music currently ...\n",
       "3508  Have good match 2nite boys - lets go comp high...\n",
       "2002                                After Earth ! : ) )"
      ]
     },
     "execution_count": 13,
     "metadata": {},
     "output_type": "execute_result"
    }
   ],
   "source": [
    "X_dev[['tweets']]=X_dev.apply({'tweets':lambda x:remove_stop_words(x)})\n",
    "X_dev.head(10)"
   ]
  },
  {
   "cell_type": "code",
   "execution_count": 14,
   "id": "8b687a91",
   "metadata": {},
   "outputs": [
    {
     "data": {
      "text/html": [
       "<div>\n",
       "<style scoped>\n",
       "    .dataframe tbody tr th:only-of-type {\n",
       "        vertical-align: middle;\n",
       "    }\n",
       "\n",
       "    .dataframe tbody tr th {\n",
       "        vertical-align: top;\n",
       "    }\n",
       "\n",
       "    .dataframe thead th {\n",
       "        text-align: right;\n",
       "    }\n",
       "</style>\n",
       "<table border=\"1\" class=\"dataframe\">\n",
       "  <thead>\n",
       "    <tr style=\"text-align: right;\">\n",
       "      <th></th>\n",
       "      <th>tweets</th>\n",
       "    </tr>\n",
       "  </thead>\n",
       "  <tbody>\n",
       "    <tr>\n",
       "      <th>6252</th>\n",
       "      <td>I love , ? feel ? Emm I think : (</td>\n",
       "    </tr>\n",
       "    <tr>\n",
       "      <th>4684</th>\n",
       "      <td>Thanks Guys : )</td>\n",
       "    </tr>\n",
       "    <tr>\n",
       "      <th>1731</th>\n",
       "      <td>Your love , O Lord , better life . : ) &amp; lt ; 3</td>\n",
       "    </tr>\n",
       "    <tr>\n",
       "      <th>4742</th>\n",
       "      <td>yeah better use official Account : ) Like The ...</td>\n",
       "    </tr>\n",
       "    <tr>\n",
       "      <th>4521</th>\n",
       "      <td>Ok good night I wish troye n't ugly I met toda...</td>\n",
       "    </tr>\n",
       "    <tr>\n",
       "      <th>6340</th>\n",
       "      <td>I 'm surprised , sounds hellish ! Why would th...</td>\n",
       "    </tr>\n",
       "    <tr>\n",
       "      <th>576</th>\n",
       "      <td>Dry , hot , scorching summer FF : )</td>\n",
       "    </tr>\n",
       "    <tr>\n",
       "      <th>5202</th>\n",
       "      <td>sad pray : ( ( (</td>\n",
       "    </tr>\n",
       "    <tr>\n",
       "      <th>6363</th>\n",
       "      <td>Popol day : (</td>\n",
       "    </tr>\n",
       "    <tr>\n",
       "      <th>439</th>\n",
       "      <td>My Song Week Ducktails - Surreal Exposure SOTW...</td>\n",
       "    </tr>\n",
       "  </tbody>\n",
       "</table>\n",
       "</div>"
      ],
      "text/plain": [
       "                                                 tweets\n",
       "6252                  I love , ? feel ? Emm I think : (\n",
       "4684                                    Thanks Guys : )\n",
       "1731    Your love , O Lord , better life . : ) & lt ; 3\n",
       "4742  yeah better use official Account : ) Like The ...\n",
       "4521  Ok good night I wish troye n't ugly I met toda...\n",
       "6340  I 'm surprised , sounds hellish ! Why would th...\n",
       "576                 Dry , hot , scorching summer FF : )\n",
       "5202                                   sad pray : ( ( (\n",
       "6363                                      Popol day : (\n",
       "439   My Song Week Ducktails - Surreal Exposure SOTW..."
      ]
     },
     "execution_count": 14,
     "metadata": {},
     "output_type": "execute_result"
    }
   ],
   "source": [
    "X_test[['tweets']]=X_test.apply({'tweets':lambda x:remove_stop_words(x)})\n",
    "X_test.head(10)"
   ]
  },
  {
   "cell_type": "markdown",
   "id": "169bf8ad-f7ba-4e67-a1a0-92fcdd193ab9",
   "metadata": {
    "id": "169bf8ad-f7ba-4e67-a1a0-92fcdd193ab9"
   },
   "source": [
    "**1.7) Remove all punctuations**"
   ]
  },
  {
   "cell_type": "code",
   "execution_count": 15,
   "id": "774743e0-8cf0-4dbb-a6fa-006ff076bb9e",
   "metadata": {
    "id": "774743e0-8cf0-4dbb-a6fa-006ff076bb9e"
   },
   "outputs": [
    {
     "data": {
      "text/html": [
       "<div>\n",
       "<style scoped>\n",
       "    .dataframe tbody tr th:only-of-type {\n",
       "        vertical-align: middle;\n",
       "    }\n",
       "\n",
       "    .dataframe tbody tr th {\n",
       "        vertical-align: top;\n",
       "    }\n",
       "\n",
       "    .dataframe thead th {\n",
       "        text-align: right;\n",
       "    }\n",
       "</style>\n",
       "<table border=\"1\" class=\"dataframe\">\n",
       "  <thead>\n",
       "    <tr style=\"text-align: right;\">\n",
       "      <th></th>\n",
       "      <th>tweets</th>\n",
       "    </tr>\n",
       "  </thead>\n",
       "  <tbody>\n",
       "    <tr>\n",
       "      <th>9254</th>\n",
       "      <td>matt</td>\n",
       "    </tr>\n",
       "    <tr>\n",
       "      <th>1561</th>\n",
       "      <td>good  thanks anyway</td>\n",
       "    </tr>\n",
       "    <tr>\n",
       "      <th>1670</th>\n",
       "      <td>bf mean</td>\n",
       "    </tr>\n",
       "    <tr>\n",
       "      <th>6087</th>\n",
       "      <td>zzzz missed stop</td>\n",
       "    </tr>\n",
       "    <tr>\n",
       "      <th>6669</th>\n",
       "      <td>means 3am Australia</td>\n",
       "    </tr>\n",
       "    <tr>\n",
       "      <th>5933</th>\n",
       "      <td>fake I texted</td>\n",
       "    </tr>\n",
       "    <tr>\n",
       "      <th>8829</th>\n",
       "      <td>This actually made cry disgusting whAT THE ACT...</td>\n",
       "    </tr>\n",
       "    <tr>\n",
       "      <th>7945</th>\n",
       "      <td>We re sorry  Google Play Music currently expe...</td>\n",
       "    </tr>\n",
       "    <tr>\n",
       "      <th>3508</th>\n",
       "      <td>Have good match 2nite boys  lets go comp high ...</td>\n",
       "    </tr>\n",
       "    <tr>\n",
       "      <th>2002</th>\n",
       "      <td>After Earth</td>\n",
       "    </tr>\n",
       "  </tbody>\n",
       "</table>\n",
       "</div>"
      ],
      "text/plain": [
       "                                                 tweets\n",
       "9254                                               matt\n",
       "1561                              good  thanks anyway  \n",
       "1670                                          bf mean  \n",
       "6087                                 zzzz missed stop  \n",
       "6669                            means 3am Australia    \n",
       "5933                                    fake I texted  \n",
       "8829  This actually made cry disgusting whAT THE ACT...\n",
       "7945   We re sorry  Google Play Music currently expe...\n",
       "3508  Have good match 2nite boys  lets go comp high ...\n",
       "2002                                    After Earth    "
      ]
     },
     "execution_count": 15,
     "metadata": {},
     "output_type": "execute_result"
    }
   ],
   "source": [
    "#code here\n",
    "X_dev[['tweets']]=X_dev.apply({'tweets':lambda x:re.sub(r'[^\\w\\s]', '',x)})\n",
    "X_dev[['tweets']]=X_dev.apply({'tweets':lambda x:re.sub(r'_', '',x)})\n",
    "X_dev.head(10)"
   ]
  },
  {
   "cell_type": "code",
   "execution_count": 16,
   "id": "2fbea7af",
   "metadata": {},
   "outputs": [
    {
     "data": {
      "text/html": [
       "<div>\n",
       "<style scoped>\n",
       "    .dataframe tbody tr th:only-of-type {\n",
       "        vertical-align: middle;\n",
       "    }\n",
       "\n",
       "    .dataframe tbody tr th {\n",
       "        vertical-align: top;\n",
       "    }\n",
       "\n",
       "    .dataframe thead th {\n",
       "        text-align: right;\n",
       "    }\n",
       "</style>\n",
       "<table border=\"1\" class=\"dataframe\">\n",
       "  <thead>\n",
       "    <tr style=\"text-align: right;\">\n",
       "      <th></th>\n",
       "      <th>tweets</th>\n",
       "    </tr>\n",
       "  </thead>\n",
       "  <tbody>\n",
       "    <tr>\n",
       "      <th>6252</th>\n",
       "      <td>I love   feel  Emm I think</td>\n",
       "    </tr>\n",
       "    <tr>\n",
       "      <th>4684</th>\n",
       "      <td>Thanks Guys</td>\n",
       "    </tr>\n",
       "    <tr>\n",
       "      <th>1731</th>\n",
       "      <td>Your love  O Lord  better life     lt  3</td>\n",
       "    </tr>\n",
       "    <tr>\n",
       "      <th>4742</th>\n",
       "      <td>yeah better use official Account   Like The Ot...</td>\n",
       "    </tr>\n",
       "    <tr>\n",
       "      <th>4521</th>\n",
       "      <td>Ok good night I wish troye nt ugly I met today...</td>\n",
       "    </tr>\n",
       "    <tr>\n",
       "      <th>6340</th>\n",
       "      <td>I m surprised  sounds hellish  Why would thing</td>\n",
       "    </tr>\n",
       "    <tr>\n",
       "      <th>576</th>\n",
       "      <td>Dry  hot  scorching summer FF</td>\n",
       "    </tr>\n",
       "    <tr>\n",
       "      <th>5202</th>\n",
       "      <td>sad pray</td>\n",
       "    </tr>\n",
       "    <tr>\n",
       "      <th>6363</th>\n",
       "      <td>Popol day</td>\n",
       "    </tr>\n",
       "    <tr>\n",
       "      <th>439</th>\n",
       "      <td>My Song Week Ducktails  Surreal Exposure SOTW ...</td>\n",
       "    </tr>\n",
       "  </tbody>\n",
       "</table>\n",
       "</div>"
      ],
      "text/plain": [
       "                                                 tweets\n",
       "6252                       I love   feel  Emm I think  \n",
       "4684                                      Thanks Guys  \n",
       "1731           Your love  O Lord  better life     lt  3\n",
       "4742  yeah better use official Account   Like The Ot...\n",
       "4521  Ok good night I wish troye nt ugly I met today...\n",
       "6340  I m surprised  sounds hellish  Why would thing   \n",
       "576                     Dry  hot  scorching summer FF  \n",
       "5202                                       sad pray    \n",
       "6363                                        Popol day  \n",
       "439   My Song Week Ducktails  Surreal Exposure SOTW ..."
      ]
     },
     "execution_count": 16,
     "metadata": {},
     "output_type": "execute_result"
    }
   ],
   "source": [
    "#code here\n",
    "X_test[['tweets']]=X_test.apply({'tweets':lambda x:re.sub(r'[^\\w\\s]', '',x)})\n",
    "X_test[['tweets']]=X_test.apply({'tweets':lambda x:re.sub(r'_', '',x)})\n",
    "X_test.head(10)"
   ]
  },
  {
   "cell_type": "markdown",
   "id": "b2f1af18-0c07-4ffb-994e-daead4740a53",
   "metadata": {
    "id": "b2f1af18-0c07-4ffb-994e-daead4740a53"
   },
   "source": [
    "**1.8) Apply stemming on the development & test datasets using Porter algorithm**"
   ]
  },
  {
   "cell_type": "code",
   "execution_count": 17,
   "id": "c84a52f6-a62a-4033-8d1d-239ff6904248",
   "metadata": {
    "id": "c84a52f6-a62a-4033-8d1d-239ff6904248"
   },
   "outputs": [],
   "source": [
    "#code here\n",
    "porter = PorterStemmer()\n",
    "def stem(sent):\n",
    "    token_words = word_tokenize(sent)\n",
    "    stem_sent = [porter.stem(word) for word in token_words]\n",
    "    return ' '.join(stem_sent)\n"
   ]
  },
  {
   "cell_type": "code",
   "execution_count": 18,
   "id": "d9b02aed",
   "metadata": {},
   "outputs": [
    {
     "data": {
      "text/html": [
       "<div>\n",
       "<style scoped>\n",
       "    .dataframe tbody tr th:only-of-type {\n",
       "        vertical-align: middle;\n",
       "    }\n",
       "\n",
       "    .dataframe tbody tr th {\n",
       "        vertical-align: top;\n",
       "    }\n",
       "\n",
       "    .dataframe thead th {\n",
       "        text-align: right;\n",
       "    }\n",
       "</style>\n",
       "<table border=\"1\" class=\"dataframe\">\n",
       "  <thead>\n",
       "    <tr style=\"text-align: right;\">\n",
       "      <th></th>\n",
       "      <th>tweets</th>\n",
       "    </tr>\n",
       "  </thead>\n",
       "  <tbody>\n",
       "    <tr>\n",
       "      <th>9254</th>\n",
       "      <td>matt</td>\n",
       "    </tr>\n",
       "    <tr>\n",
       "      <th>1561</th>\n",
       "      <td>good thank anyway</td>\n",
       "    </tr>\n",
       "    <tr>\n",
       "      <th>1670</th>\n",
       "      <td>bf mean</td>\n",
       "    </tr>\n",
       "    <tr>\n",
       "      <th>6087</th>\n",
       "      <td>zzzz miss stop</td>\n",
       "    </tr>\n",
       "    <tr>\n",
       "      <th>6669</th>\n",
       "      <td>mean 3am australia</td>\n",
       "    </tr>\n",
       "    <tr>\n",
       "      <th>5933</th>\n",
       "      <td>fake i text</td>\n",
       "    </tr>\n",
       "    <tr>\n",
       "      <th>8829</th>\n",
       "      <td>thi actual made cri disgust what the actual fu...</td>\n",
       "    </tr>\n",
       "    <tr>\n",
       "      <th>7945</th>\n",
       "      <td>we re sorri googl play music current experienc...</td>\n",
       "    </tr>\n",
       "    <tr>\n",
       "      <th>3508</th>\n",
       "      <td>have good match 2nite boy let go comp high enj...</td>\n",
       "    </tr>\n",
       "    <tr>\n",
       "      <th>2002</th>\n",
       "      <td>after earth</td>\n",
       "    </tr>\n",
       "  </tbody>\n",
       "</table>\n",
       "</div>"
      ],
      "text/plain": [
       "                                                 tweets\n",
       "9254                                               matt\n",
       "1561                                  good thank anyway\n",
       "1670                                            bf mean\n",
       "6087                                     zzzz miss stop\n",
       "6669                                 mean 3am australia\n",
       "5933                                        fake i text\n",
       "8829  thi actual made cri disgust what the actual fu...\n",
       "7945  we re sorri googl play music current experienc...\n",
       "3508  have good match 2nite boy let go comp high enj...\n",
       "2002                                        after earth"
      ]
     },
     "execution_count": 18,
     "metadata": {},
     "output_type": "execute_result"
    }
   ],
   "source": [
    "X_dev[['tweets']]=X_dev.apply({'tweets':lambda x:stem(x)})\n",
    "X_dev.head(10)"
   ]
  },
  {
   "cell_type": "code",
   "execution_count": 19,
   "id": "2cf72ed0",
   "metadata": {},
   "outputs": [
    {
     "data": {
      "text/html": [
       "<div>\n",
       "<style scoped>\n",
       "    .dataframe tbody tr th:only-of-type {\n",
       "        vertical-align: middle;\n",
       "    }\n",
       "\n",
       "    .dataframe tbody tr th {\n",
       "        vertical-align: top;\n",
       "    }\n",
       "\n",
       "    .dataframe thead th {\n",
       "        text-align: right;\n",
       "    }\n",
       "</style>\n",
       "<table border=\"1\" class=\"dataframe\">\n",
       "  <thead>\n",
       "    <tr style=\"text-align: right;\">\n",
       "      <th></th>\n",
       "      <th>tweets</th>\n",
       "    </tr>\n",
       "  </thead>\n",
       "  <tbody>\n",
       "    <tr>\n",
       "      <th>6252</th>\n",
       "      <td>i love feel emm i think</td>\n",
       "    </tr>\n",
       "    <tr>\n",
       "      <th>4684</th>\n",
       "      <td>thank guy</td>\n",
       "    </tr>\n",
       "    <tr>\n",
       "      <th>1731</th>\n",
       "      <td>your love o lord better life lt 3</td>\n",
       "    </tr>\n",
       "    <tr>\n",
       "      <th>4742</th>\n",
       "      <td>yeah better use offici account like the other</td>\n",
       "    </tr>\n",
       "    <tr>\n",
       "      <th>4521</th>\n",
       "      <td>ok good night i wish troy nt ugli i met today ...</td>\n",
       "    </tr>\n",
       "    <tr>\n",
       "      <th>6340</th>\n",
       "      <td>i m surpris sound hellish whi would thing</td>\n",
       "    </tr>\n",
       "    <tr>\n",
       "      <th>576</th>\n",
       "      <td>dri hot scorch summer ff</td>\n",
       "    </tr>\n",
       "    <tr>\n",
       "      <th>5202</th>\n",
       "      <td>sad pray</td>\n",
       "    </tr>\n",
       "    <tr>\n",
       "      <th>6363</th>\n",
       "      <td>popol day</td>\n",
       "    </tr>\n",
       "    <tr>\n",
       "      <th>439</th>\n",
       "      <td>my song week ducktail surreal exposur sotw jin...</td>\n",
       "    </tr>\n",
       "  </tbody>\n",
       "</table>\n",
       "</div>"
      ],
      "text/plain": [
       "                                                 tweets\n",
       "6252                            i love feel emm i think\n",
       "4684                                          thank guy\n",
       "1731                  your love o lord better life lt 3\n",
       "4742      yeah better use offici account like the other\n",
       "4521  ok good night i wish troy nt ugli i met today ...\n",
       "6340          i m surpris sound hellish whi would thing\n",
       "576                            dri hot scorch summer ff\n",
       "5202                                           sad pray\n",
       "6363                                          popol day\n",
       "439   my song week ducktail surreal exposur sotw jin..."
      ]
     },
     "execution_count": 19,
     "metadata": {},
     "output_type": "execute_result"
    }
   ],
   "source": [
    "X_test[['tweets']]=X_test.apply({'tweets':lambda x:stem(x)})\n",
    "X_test.head(10)"
   ]
  },
  {
   "cell_type": "markdown",
   "id": "687e23ef-dafd-4183-b2f1-86089e281dd8",
   "metadata": {
    "id": "687e23ef-dafd-4183-b2f1-86089e281dd8"
   },
   "source": [
    "#### **Model training**"
   ]
  },
  {
   "cell_type": "markdown",
   "id": "0c40fa44-01ad-4788-98b9-9c8f0c1252ef",
   "metadata": {
    "id": "0c40fa44-01ad-4788-98b9-9c8f0c1252ef"
   },
   "source": [
    "**1.9) Create bag of words features for each tweet in the development dataset**"
   ]
  },
  {
   "cell_type": "code",
   "execution_count": 20,
   "id": "c17c6b99-9dfb-4d30-9e03-d596a9da880a",
   "metadata": {
    "id": "c17c6b99-9dfb-4d30-9e03-d596a9da880a"
   },
   "outputs": [],
   "source": [
    "#code here\n",
    "bag_of_words = CountVectorizer()\n",
    "X_dev_bag=bag_of_words.fit_transform(X_dev.tweets)"
   ]
  },
  {
   "cell_type": "markdown",
   "id": "4baf65cd-019b-4ff4-b93c-3ca8cfffca8e",
   "metadata": {
    "id": "4baf65cd-019b-4ff4-b93c-3ca8cfffca8e"
   },
   "source": [
    "**1.10) Train a supervised learning model of choice on the development dataset**"
   ]
  },
  {
   "cell_type": "code",
   "execution_count": 21,
   "id": "3433a6b0-408d-462e-9072-3495b21bc97b",
   "metadata": {
    "id": "3433a6b0-408d-462e-9072-3495b21bc97b"
   },
   "outputs": [
    {
     "data": {
      "text/plain": [
       "LogisticRegressionCV(cv=10, max_iter=10000)"
      ]
     },
     "execution_count": 21,
     "metadata": {},
     "output_type": "execute_result"
    }
   ],
   "source": [
    "#code here\n",
    "lr_bag = LogisticRegressionCV(cv=10, max_iter=10000)\n",
    "lr_bag.fit(X_dev_bag, y_dev)"
   ]
  },
  {
   "cell_type": "markdown",
   "id": "1c16c6f6-7ab2-4d7a-b9dc-098a72381340",
   "metadata": {
    "id": "1c16c6f6-7ab2-4d7a-b9dc-098a72381340"
   },
   "source": [
    "**1.11) Create TF-IDF features for each tweet in the development dataset**"
   ]
  },
  {
   "cell_type": "code",
   "execution_count": 22,
   "id": "7b417843-ffc4-4614-b2ef-964f8ec3e510",
   "metadata": {
    "id": "7b417843-ffc4-4614-b2ef-964f8ec3e510"
   },
   "outputs": [],
   "source": [
    "#code here\n",
    "tf_idf = TfidfVectorizer()\n",
    "X_dev_tf_idf=tf_idf.fit_transform(X_dev.tweets)"
   ]
  },
  {
   "cell_type": "markdown",
   "id": "ea3c9776-aad9-4eda-b3c2-d9f6b3e52427",
   "metadata": {
    "id": "ea3c9776-aad9-4eda-b3c2-d9f6b3e52427"
   },
   "source": [
    "**1.12) Train the same supervised learning algorithm on the development dataset with TF-IDF features**"
   ]
  },
  {
   "cell_type": "code",
   "execution_count": 23,
   "id": "b8c7fe8b-61de-4daa-a338-74295a4902ce",
   "metadata": {
    "id": "b8c7fe8b-61de-4daa-a338-74295a4902ce"
   },
   "outputs": [
    {
     "data": {
      "text/plain": [
       "LogisticRegressionCV(cv=10, max_iter=10000)"
      ]
     },
     "execution_count": 23,
     "metadata": {},
     "output_type": "execute_result"
    }
   ],
   "source": [
    "#code here\n",
    "lr_tf_idf = LogisticRegressionCV(cv=10, max_iter=10000)\n",
    "lr_tf_idf.fit(X_dev_tf_idf, y_dev)"
   ]
  },
  {
   "cell_type": "markdown",
   "id": "ab0129e7-a0ea-473e-9ad1-667b44a13a92",
   "metadata": {
    "id": "ab0129e7-a0ea-473e-9ad1-667b44a13a92"
   },
   "source": [
    "**1.13) Compare the performance of the two models on the test dataset**"
   ]
  },
  {
   "cell_type": "code",
   "execution_count": 24,
   "id": "a64ca176-dab8-4965-a85d-dcf9dc013717",
   "metadata": {
    "id": "a64ca176-dab8-4965-a85d-dcf9dc013717"
   },
   "outputs": [
    {
     "name": "stdout",
     "output_type": "stream",
     "text": [
      "Performance of bag of words on test dataset-0.745\n",
      "              precision    recall  f1-score   support\n",
      "\n",
      "         neg       0.72      0.78      0.75       988\n",
      "         pos       0.77      0.71      0.74      1012\n",
      "\n",
      "    accuracy                           0.74      2000\n",
      "   macro avg       0.75      0.75      0.74      2000\n",
      "weighted avg       0.75      0.74      0.74      2000\n",
      "\n"
     ]
    }
   ],
   "source": [
    "#code here\n",
    "X_test_bag = bag_of_words.transform(X_test.tweets)\n",
    "print(f\"Performance of bag of words on test dataset-{lr_bag.score(X_test_bag, y_test)}\")\n",
    "print(classification_report(y_test,lr_bag.predict(X_test_bag)))\n"
   ]
  },
  {
   "cell_type": "code",
   "execution_count": 25,
   "id": "b76ba76a",
   "metadata": {},
   "outputs": [
    {
     "name": "stdout",
     "output_type": "stream",
     "text": [
      "Performance of tf idf on test dataset-0.76\n",
      "              precision    recall  f1-score   support\n",
      "\n",
      "         neg       0.74      0.78      0.76       988\n",
      "         pos       0.78      0.74      0.76      1012\n",
      "\n",
      "    accuracy                           0.76      2000\n",
      "   macro avg       0.76      0.76      0.76      2000\n",
      "weighted avg       0.76      0.76      0.76      2000\n",
      "\n"
     ]
    }
   ],
   "source": [
    "X_test_tf_idf = tf_idf.transform(X_test.tweets)\n",
    "print(f\"Performance of tf idf on test dataset-{lr_tf_idf.score(X_test_tf_idf, y_test)}\")\n",
    "print(classification_report(y_test,lr_tf_idf.predict(X_test_tf_idf)))"
   ]
  },
  {
   "cell_type": "markdown",
   "id": "685f70cc",
   "metadata": {},
   "source": [
    "**Answer-**\n",
    "Bag of Words model constructs a vocabulary extracting the unique words from the documents and keeps the vector with the term frequency of the particular word in the corresponding document.In TF-IDF, apart from the term frequencies we also take inverse of number of documents that a particular term appears or the inverse of document frequency.\n",
    "\n",
    "Hence,in this study, Term ordering is not considered and Rareness of a term is not considered in BOW hence TF-IDF is better approach."
   ]
  }
 ],
 "metadata": {
  "colab": {
   "name": "HW4-NLP.ipynb",
   "provenance": []
  },
  "kernelspec": {
   "display_name": "Python 3 (ipykernel)",
   "language": "python",
   "name": "python3"
  },
  "language_info": {
   "codemirror_mode": {
    "name": "ipython",
    "version": 3
   },
   "file_extension": ".py",
   "mimetype": "text/x-python",
   "name": "python",
   "nbconvert_exporter": "python",
   "pygments_lexer": "ipython3",
   "version": "3.9.7"
  }
 },
 "nbformat": 4,
 "nbformat_minor": 5
}
